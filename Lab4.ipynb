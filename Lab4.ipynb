{
  "nbformat": 4,
  "nbformat_minor": 0,
  "metadata": {
    "colab": {
      "provenance": [],
      "toc_visible": true
    },
    "kernelspec": {
      "name": "python3",
      "display_name": "Python 3"
    },
    "language_info": {
      "name": "python"
    }
  },
  "cells": [
    {
      "cell_type": "markdown",
      "source": [
        "![Banner PEC DCC](https://raw.githubusercontent.com/pbadillatorrealba/DEDCCPYAC02-recursos/master/catedras/clase5/banner.png)\n"
      ],
      "metadata": {
        "id": "nrX-ljOmrz87"
      }
    },
    {
      "cell_type": "markdown",
      "source": [
        "# Laboratorio 4: agrupaciones de datos\n",
        "\n",
        "### Integrantes:\n",
        "__Nombre 1__:\n",
        "\n",
        "__Nombre 2__:\n",
        "\n"
      ],
      "metadata": {
        "id": "m_TR8z1fr3la"
      }
    },
    {
      "cell_type": "markdown",
      "source": [
        "### Reglas:\n",
        "\n",
        "- **Grupos de 2 personas**.\n",
        "- **Ausentes** deberán realizar la actividad solos.\n",
        "- Cualquier duda fuera del horario de clases al foro. Mensajes al equipo docente serán respondidos por este medio.\n",
        "\n",
        "### Objetivos:\n",
        "- Utilizar `groupby` para generar agrupaciones\n",
        "- Aplicar distintas agregaciones sobre cada grupo\n",
        "- Familiarizarse con índices jerárquicos"
      ],
      "metadata": {
        "id": "JUaQ-_Ivv1zM"
      }
    },
    {
      "cell_type": "markdown",
      "source": [
        "## Preliminar: importar librerías, cargar datos y limpiar."
      ],
      "metadata": {
        "id": "okB2yiwwsG0H"
      }
    },
    {
      "cell_type": "markdown",
      "source": [
        "1. Importe las librerías `pandas` y `numpy`"
      ],
      "metadata": {
        "id": "pL6cZSPJsLyq"
      }
    },
    {
      "cell_type": "code",
      "execution_count": 22,
      "metadata": {
        "id": "Dr7J7-_uoSRm"
      },
      "outputs": [],
      "source": [
        "# Código aquí"
      ]
    },
    {
      "cell_type": "markdown",
      "source": [
        "2. Carge el dataset (recuerde subir el archivo a colab)"
      ],
      "metadata": {
        "id": "ha0-y8GQsSfO"
      }
    },
    {
      "cell_type": "code",
      "source": [
        "# Código aquí"
      ],
      "metadata": {
        "id": "V5Pdq8pKoWZ5"
      },
      "execution_count": 23,
      "outputs": []
    },
    {
      "cell_type": "markdown",
      "source": [
        "3. Elimine todas las filas que contienen valores nulos (puede usar la función dropna). Este dataset limpio es el que debe usar durante el resto del laboratorio."
      ],
      "metadata": {
        "id": "9X3D21ansYfE"
      }
    },
    {
      "cell_type": "code",
      "source": [
        "# Código aquí"
      ],
      "metadata": {
        "id": "VoO-WRyKodQn"
      },
      "execution_count": 24,
      "outputs": []
    },
    {
      "cell_type": "markdown",
      "source": [
        "## Agrupaciones"
      ],
      "metadata": {
        "id": "pn62Ef5PskuG"
      }
    },
    {
      "cell_type": "markdown",
      "source": [
        "1. Calcule el promedio de `math score` agrupando por género (columna `gender`)"
      ],
      "metadata": {
        "id": "XDcI80zhoxD0"
      }
    },
    {
      "cell_type": "code",
      "source": [
        "# Código aquí"
      ],
      "metadata": {
        "id": "z0clBXrIovN2"
      },
      "execution_count": 25,
      "outputs": []
    },
    {
      "cell_type": "markdown",
      "source": [
        "2. Calcule el promedio de `math score` agrupando por etnia (columna `race/ethnicity`)"
      ],
      "metadata": {
        "id": "nw2eqZC8pBVK"
      }
    },
    {
      "cell_type": "code",
      "source": [
        "# Código aquí"
      ],
      "metadata": {
        "id": "X2qIE-vJo7Uz"
      },
      "execution_count": 26,
      "outputs": []
    },
    {
      "cell_type": "markdown",
      "source": [
        "3. Calcule el promedio de `math score` agrupando por género y etnia"
      ],
      "metadata": {
        "id": "1ipB-CvfpPPn"
      }
    },
    {
      "cell_type": "code",
      "source": [
        "# Código aquí"
      ],
      "metadata": {
        "id": "I35UWZg-pJP2"
      },
      "execution_count": 27,
      "outputs": []
    },
    {
      "cell_type": "markdown",
      "source": [
        "4. Calcule el promedio de `math score` agrupando por género, etnia y nivel educacional de los padres de los estudiantes."
      ],
      "metadata": {
        "id": "lLTCg4FMpdUA"
      }
    },
    {
      "cell_type": "code",
      "source": [
        "# Código aquí"
      ],
      "metadata": {
        "id": "BGw3YXu4pYOe"
      },
      "execution_count": 28,
      "outputs": []
    },
    {
      "cell_type": "markdown",
      "source": [
        "5. Calcule el promedio de `math score`, `reading score`, `writing score` agrupando por género.\n",
        "\n",
        "__Indicación__: no seleccione las columnas, sólo use `mean` y recuerde el parámetro `numeric_only`"
      ],
      "metadata": {
        "id": "ngMsbbUhpqwm"
      }
    },
    {
      "cell_type": "code",
      "source": [
        "# Código aquí"
      ],
      "metadata": {
        "id": "vusuPI1Gpnnl"
      },
      "execution_count": 29,
      "outputs": []
    },
    {
      "cell_type": "markdown",
      "source": [
        "6. Calcule el promedio sólo de `math score` y `reading score` agrupando por género.\n",
        "\n",
        "__Indicación__: Ahora sí debe seleccionar las columnas.\n"
      ],
      "metadata": {
        "id": "SuHSh4O4qO-l"
      }
    },
    {
      "cell_type": "code",
      "source": [
        "# Código aquí"
      ],
      "metadata": {
        "id": "sL_Drewap5sF"
      },
      "execution_count": 30,
      "outputs": []
    },
    {
      "cell_type": "markdown",
      "source": [
        "7. Calcule el promedio y la desviación estándar para `math score` agrupando por género."
      ],
      "metadata": {
        "id": "ftk8glp_qe_0"
      }
    },
    {
      "cell_type": "code",
      "source": [
        "# Código aquí"
      ],
      "metadata": {
        "id": "YrWb8aGdqXUp"
      },
      "execution_count": 31,
      "outputs": []
    },
    {
      "cell_type": "markdown",
      "source": [
        "8. Defina una función que, dado un arreglo (`array`) retorne el tercer valor más pequeño. Nombre a esta función como \"third_smallest\". Ahora, obtenga el tercer valor más pequeño sobre `reading score`, agrupando por etnia.\n",
        "\n",
        "__Indicación__: busque la función `np.sort` de `numpy`."
      ],
      "metadata": {
        "id": "Cqqlzmwnq2KY"
      }
    },
    {
      "cell_type": "code",
      "source": [
        "# Código aquí"
      ],
      "metadata": {
        "id": "2U4mpZo5qqLU"
      },
      "execution_count": 32,
      "outputs": []
    },
    {
      "cell_type": "markdown",
      "source": [
        "9. Agrupe por género y etnia (en ese orden), y obtenga:\n",
        "- Para math score, el tercer valor más pequeño\n",
        "- Para reading score, el promedio y desviación estándar\n",
        "- Para writing score, el mínimo y máximo"
      ],
      "metadata": {
        "id": "Zorr2uXgrgRU"
      }
    },
    {
      "cell_type": "code",
      "source": [
        "# Código aquí"
      ],
      "metadata": {
        "id": "C4Jh4MwJrdFf"
      },
      "execution_count": 33,
      "outputs": []
    }
  ]
}