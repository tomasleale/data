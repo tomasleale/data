{
  "nbformat": 4,
  "nbformat_minor": 0,
  "metadata": {
    "colab": {
      "provenance": [],
      "toc_visible": true
    },
    "kernelspec": {
      "name": "python3",
      "display_name": "Python 3"
    },
    "language_info": {
      "name": "python"
    }
  },
  "cells": [
    {
      "cell_type": "markdown",
      "source": [
        "![Banner PEC DCC](https://raw.githubusercontent.com/pbadillatorrealba/DEDCCPYAC02-recursos/master/catedras/clase5/banner.png)\n"
      ],
      "metadata": {
        "id": "nrX-ljOmrz87"
      }
    },
    {
      "cell_type": "markdown",
      "source": [
        "# Laboratorio 4: agrupaciones de datos\n",
        "\n",
        "### Integrantes:\n",
        "__Nombre 1__: Tomás Leal Elgueda\n",
        "\n",
        "__Nombre 2__:\n",
        "\n"
      ],
      "metadata": {
        "id": "m_TR8z1fr3la"
      }
    },
    {
      "cell_type": "markdown",
      "source": [
        "### Reglas:\n",
        "\n",
        "- **Grupos de 2 personas**.\n",
        "- **Ausentes** deberán realizar la actividad solos.\n",
        "- Cualquier duda fuera del horario de clases al foro. Mensajes al equipo docente serán respondidos por este medio.\n",
        "\n",
        "### Objetivos:\n",
        "- Utilizar `groupby` para generar agrupaciones\n",
        "- Aplicar distintas agregaciones sobre cada grupo\n",
        "- Familiarizarse con índices jerárquicos"
      ],
      "metadata": {
        "id": "JUaQ-_Ivv1zM"
      }
    },
    {
      "cell_type": "markdown",
      "source": [
        "## Preliminar: importar librerías, cargar datos y limpiar."
      ],
      "metadata": {
        "id": "okB2yiwwsG0H"
      }
    },
    {
      "cell_type": "markdown",
      "source": [
        "1. Importe las librerías `pandas` y `numpy`"
      ],
      "metadata": {
        "id": "pL6cZSPJsLyq"
      }
    },
    {
      "cell_type": "code",
      "execution_count": 1,
      "metadata": {
        "id": "Dr7J7-_uoSRm"
      },
      "outputs": [],
      "source": [
        "# Código aquí\n",
        "import numpy as np\n",
        "import pandas as pd"
      ]
    },
    {
      "cell_type": "markdown",
      "source": [
        "2. Carge el dataset (recuerde subir el archivo a colab)"
      ],
      "metadata": {
        "id": "ha0-y8GQsSfO"
      }
    },
    {
      "cell_type": "code",
      "source": [
        "# Código aquí\n",
        "df = pd.read_excel('https://github.com/tomasleale/data/raw/abe4d2ea70d5d30e7bc8386a3de00f46cda941d8/student_grades.xlsx')\n",
        "df.shape\n",
        "df.isna().sum()"
      ],
      "metadata": {
        "id": "V5Pdq8pKoWZ5",
        "outputId": "8d319e59-85a3-4ad4-8a49-3705d4555d68",
        "colab": {
          "base_uri": "https://localhost:8080/",
          "height": 398
        }
      },
      "execution_count": 12,
      "outputs": [
        {
          "output_type": "execute_result",
          "data": {
            "text/plain": [
              "Unnamed: 0                      0\n",
              "names                           0\n",
              "gender                          0\n",
              "race/ethnicity                  0\n",
              "parental level of education     0\n",
              "lunch                           0\n",
              "test preparation course         0\n",
              "math score                     40\n",
              "reading score                  40\n",
              "writing score                  47\n",
              "dtype: int64"
            ],
            "text/html": [
              "<div>\n",
              "<style scoped>\n",
              "    .dataframe tbody tr th:only-of-type {\n",
              "        vertical-align: middle;\n",
              "    }\n",
              "\n",
              "    .dataframe tbody tr th {\n",
              "        vertical-align: top;\n",
              "    }\n",
              "\n",
              "    .dataframe thead th {\n",
              "        text-align: right;\n",
              "    }\n",
              "</style>\n",
              "<table border=\"1\" class=\"dataframe\">\n",
              "  <thead>\n",
              "    <tr style=\"text-align: right;\">\n",
              "      <th></th>\n",
              "      <th>0</th>\n",
              "    </tr>\n",
              "  </thead>\n",
              "  <tbody>\n",
              "    <tr>\n",
              "      <th>Unnamed: 0</th>\n",
              "      <td>0</td>\n",
              "    </tr>\n",
              "    <tr>\n",
              "      <th>names</th>\n",
              "      <td>0</td>\n",
              "    </tr>\n",
              "    <tr>\n",
              "      <th>gender</th>\n",
              "      <td>0</td>\n",
              "    </tr>\n",
              "    <tr>\n",
              "      <th>race/ethnicity</th>\n",
              "      <td>0</td>\n",
              "    </tr>\n",
              "    <tr>\n",
              "      <th>parental level of education</th>\n",
              "      <td>0</td>\n",
              "    </tr>\n",
              "    <tr>\n",
              "      <th>lunch</th>\n",
              "      <td>0</td>\n",
              "    </tr>\n",
              "    <tr>\n",
              "      <th>test preparation course</th>\n",
              "      <td>0</td>\n",
              "    </tr>\n",
              "    <tr>\n",
              "      <th>math score</th>\n",
              "      <td>40</td>\n",
              "    </tr>\n",
              "    <tr>\n",
              "      <th>reading score</th>\n",
              "      <td>40</td>\n",
              "    </tr>\n",
              "    <tr>\n",
              "      <th>writing score</th>\n",
              "      <td>47</td>\n",
              "    </tr>\n",
              "  </tbody>\n",
              "</table>\n",
              "</div><br><label><b>dtype:</b> int64</label>"
            ]
          },
          "metadata": {},
          "execution_count": 12
        }
      ]
    },
    {
      "cell_type": "markdown",
      "source": [
        "3. Elimine todas las filas que contienen valores nulos (puede usar la función dropna). Este dataset limpio es el que debe usar durante el resto del laboratorio."
      ],
      "metadata": {
        "id": "9X3D21ansYfE"
      }
    },
    {
      "cell_type": "code",
      "source": [
        "# Código aquí\n",
        "df_limpio = df.copy()\n",
        "df_limpio.dropna(inplace=True)\n",
        "df_limpio.shape\n"
      ],
      "metadata": {
        "id": "VoO-WRyKodQn",
        "outputId": "d6c66362-5c18-4d1a-84a6-8cb22b0a4748",
        "colab": {
          "base_uri": "https://localhost:8080/"
        }
      },
      "execution_count": 16,
      "outputs": [
        {
          "output_type": "execute_result",
          "data": {
            "text/plain": [
              "(1298, 10)"
            ]
          },
          "metadata": {},
          "execution_count": 16
        }
      ]
    },
    {
      "cell_type": "markdown",
      "source": [
        "## Agrupaciones"
      ],
      "metadata": {
        "id": "pn62Ef5PskuG"
      }
    },
    {
      "cell_type": "markdown",
      "source": [
        "1. Calcule el promedio de `math score` agrupando por género (columna `gender`)"
      ],
      "metadata": {
        "id": "XDcI80zhoxD0"
      }
    },
    {
      "cell_type": "code",
      "source": [
        "# Código aquí\n",
        "df_limpio.groupby('gender')['math score'].mean().round(2)"
      ],
      "metadata": {
        "id": "z0clBXrIovN2",
        "outputId": "80eba369-4088-4eff-9f6c-f502fa471e0f",
        "colab": {
          "base_uri": "https://localhost:8080/",
          "height": 178
        }
      },
      "execution_count": 18,
      "outputs": [
        {
          "output_type": "execute_result",
          "data": {
            "text/plain": [
              "gender\n",
              "female    83.25\n",
              "male      88.86\n",
              "Name: math score, dtype: float64"
            ],
            "text/html": [
              "<div>\n",
              "<style scoped>\n",
              "    .dataframe tbody tr th:only-of-type {\n",
              "        vertical-align: middle;\n",
              "    }\n",
              "\n",
              "    .dataframe tbody tr th {\n",
              "        vertical-align: top;\n",
              "    }\n",
              "\n",
              "    .dataframe thead th {\n",
              "        text-align: right;\n",
              "    }\n",
              "</style>\n",
              "<table border=\"1\" class=\"dataframe\">\n",
              "  <thead>\n",
              "    <tr style=\"text-align: right;\">\n",
              "      <th></th>\n",
              "      <th>math score</th>\n",
              "    </tr>\n",
              "    <tr>\n",
              "      <th>gender</th>\n",
              "      <th></th>\n",
              "    </tr>\n",
              "  </thead>\n",
              "  <tbody>\n",
              "    <tr>\n",
              "      <th>female</th>\n",
              "      <td>83.25</td>\n",
              "    </tr>\n",
              "    <tr>\n",
              "      <th>male</th>\n",
              "      <td>88.86</td>\n",
              "    </tr>\n",
              "  </tbody>\n",
              "</table>\n",
              "</div><br><label><b>dtype:</b> float64</label>"
            ]
          },
          "metadata": {},
          "execution_count": 18
        }
      ]
    },
    {
      "cell_type": "markdown",
      "source": [
        "2. Calcule el promedio de `math score` agrupando por etnia (columna `race/ethnicity`)"
      ],
      "metadata": {
        "id": "nw2eqZC8pBVK"
      }
    },
    {
      "cell_type": "code",
      "source": [
        "# Código aquí\n",
        "df_limpio.groupby('race/ethnicity')['math score'].mean().round(2)"
      ],
      "metadata": {
        "id": "X2qIE-vJo7Uz",
        "outputId": "bfba0b8f-5a50-492d-af6d-4b9b39e3a111",
        "colab": {
          "base_uri": "https://localhost:8080/",
          "height": 272
        }
      },
      "execution_count": 19,
      "outputs": [
        {
          "output_type": "execute_result",
          "data": {
            "text/plain": [
              "race/ethnicity\n",
              "group A    82.49\n",
              "group B    82.65\n",
              "group C    84.02\n",
              "group D    86.49\n",
              "group E    95.88\n",
              "Name: math score, dtype: float64"
            ],
            "text/html": [
              "<div>\n",
              "<style scoped>\n",
              "    .dataframe tbody tr th:only-of-type {\n",
              "        vertical-align: middle;\n",
              "    }\n",
              "\n",
              "    .dataframe tbody tr th {\n",
              "        vertical-align: top;\n",
              "    }\n",
              "\n",
              "    .dataframe thead th {\n",
              "        text-align: right;\n",
              "    }\n",
              "</style>\n",
              "<table border=\"1\" class=\"dataframe\">\n",
              "  <thead>\n",
              "    <tr style=\"text-align: right;\">\n",
              "      <th></th>\n",
              "      <th>math score</th>\n",
              "    </tr>\n",
              "    <tr>\n",
              "      <th>race/ethnicity</th>\n",
              "      <th></th>\n",
              "    </tr>\n",
              "  </thead>\n",
              "  <tbody>\n",
              "    <tr>\n",
              "      <th>group A</th>\n",
              "      <td>82.49</td>\n",
              "    </tr>\n",
              "    <tr>\n",
              "      <th>group B</th>\n",
              "      <td>82.65</td>\n",
              "    </tr>\n",
              "    <tr>\n",
              "      <th>group C</th>\n",
              "      <td>84.02</td>\n",
              "    </tr>\n",
              "    <tr>\n",
              "      <th>group D</th>\n",
              "      <td>86.49</td>\n",
              "    </tr>\n",
              "    <tr>\n",
              "      <th>group E</th>\n",
              "      <td>95.88</td>\n",
              "    </tr>\n",
              "  </tbody>\n",
              "</table>\n",
              "</div><br><label><b>dtype:</b> float64</label>"
            ]
          },
          "metadata": {},
          "execution_count": 19
        }
      ]
    },
    {
      "cell_type": "markdown",
      "source": [
        "3. Calcule el promedio de `math score` agrupando por género y etnia"
      ],
      "metadata": {
        "id": "1ipB-CvfpPPn"
      }
    },
    {
      "cell_type": "code",
      "source": [
        "# Código aquí\n"
      ],
      "metadata": {
        "id": "I35UWZg-pJP2"
      },
      "execution_count": 20,
      "outputs": []
    },
    {
      "cell_type": "markdown",
      "source": [
        "4. Calcule el promedio de `math score` agrupando por género, etnia y nivel educacional de los padres de los estudiantes."
      ],
      "metadata": {
        "id": "lLTCg4FMpdUA"
      }
    },
    {
      "cell_type": "code",
      "source": [
        "# Código aquí"
      ],
      "metadata": {
        "id": "BGw3YXu4pYOe"
      },
      "execution_count": null,
      "outputs": []
    },
    {
      "cell_type": "markdown",
      "source": [
        "5. Calcule el promedio de `math score`, `reading score`, `writing score` agrupando por género.\n",
        "\n",
        "__Indicación__: no seleccione las columnas, sólo use `mean` y recuerde el parámetro `numeric_only`"
      ],
      "metadata": {
        "id": "ngMsbbUhpqwm"
      }
    },
    {
      "cell_type": "code",
      "source": [
        "# Código aquí"
      ],
      "metadata": {
        "id": "vusuPI1Gpnnl"
      },
      "execution_count": null,
      "outputs": []
    },
    {
      "cell_type": "markdown",
      "source": [
        "6. Calcule el promedio sólo de `math score` y `reading score` agrupando por género.\n",
        "\n",
        "__Indicación__: Ahora sí debe seleccionar las columnas.\n"
      ],
      "metadata": {
        "id": "SuHSh4O4qO-l"
      }
    },
    {
      "cell_type": "code",
      "source": [
        "# Código aquí"
      ],
      "metadata": {
        "id": "sL_Drewap5sF"
      },
      "execution_count": null,
      "outputs": []
    },
    {
      "cell_type": "markdown",
      "source": [
        "7. Calcule el promedio y la desviación estándar para `math score` agrupando por género."
      ],
      "metadata": {
        "id": "ftk8glp_qe_0"
      }
    },
    {
      "cell_type": "code",
      "source": [
        "# Código aquí"
      ],
      "metadata": {
        "id": "YrWb8aGdqXUp"
      },
      "execution_count": null,
      "outputs": []
    },
    {
      "cell_type": "markdown",
      "source": [
        "8. Defina una función que, dado un arreglo (`array`) retorne el tercer valor más pequeño. Nombre a esta función como \"third_smallest\". Ahora, obtenga el tercer valor más pequeño sobre `reading score`, agrupando por etnia.\n",
        "\n",
        "__Indicación__: busque la función `np.sort` de `numpy`."
      ],
      "metadata": {
        "id": "Cqqlzmwnq2KY"
      }
    },
    {
      "cell_type": "code",
      "source": [
        "# Código aquí"
      ],
      "metadata": {
        "id": "2U4mpZo5qqLU"
      },
      "execution_count": null,
      "outputs": []
    },
    {
      "cell_type": "markdown",
      "source": [
        "9. Agrupe por género y etnia (en ese orden), y obtenga:\n",
        "- Para math score, el tercer valor más pequeño\n",
        "- Para reading score, el promedio y desviación estándar\n",
        "- Para writing score, el mínimo y máximo"
      ],
      "metadata": {
        "id": "Zorr2uXgrgRU"
      }
    },
    {
      "cell_type": "code",
      "source": [
        "# Código aquí"
      ],
      "metadata": {
        "id": "C4Jh4MwJrdFf"
      },
      "execution_count": null,
      "outputs": []
    }
  ]
}